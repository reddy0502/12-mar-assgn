{
 "cells": [
  {
   "cell_type": "markdown",
   "id": "d817735b-aa05-4e9b-b621-95d28df4c154",
   "metadata": {},
   "source": [
    "1ans:"
   ]
  },
  {
   "cell_type": "code",
   "execution_count": 2,
   "id": "eecb729b-4d61-4a6f-bc47-06fcb316f358",
   "metadata": {},
   "outputs": [
    {
     "name": "stdout",
     "output_type": "stream",
     "text": [
      "The 95% confidence interval is: (48.614096175650324, 51.385903824349676)\n"
     ]
    }
   ],
   "source": [
    "from scipy import stats\n",
    "\n",
    "# Sample data\n",
    "mean = 50\n",
    "std = 5\n",
    "sample_size = 50\n",
    "\n",
    "# Calculate the standard error of the mean\n",
    "sem = std / (sample_size ** 0.5)\n",
    "\n",
    "# Calculate the 95% confidence interval\n",
    "conf_int = stats.norm.interval(0.95, loc=mean, scale=sem)\n",
    "\n",
    "print(\"The 95% confidence interval is:\", conf_int)\n"
   ]
  },
  {
   "cell_type": "markdown",
   "id": "4e645624-1dc4-41d9-9c8b-05670d1c0920",
   "metadata": {},
   "source": [
    "The 95% confidence interval tells us that if we were to repeat the process of taking a sample of data from the same population many times, we would expect the true population mean to fall within the range of 48.42 to 51.58, with a confidence level of 95%. This means that we are 95% confident that the true population mean lies within this interval. Alternatively, we can say that there is a 5% chance that the true population mean falls outside of this interval."
   ]
  },
  {
   "cell_type": "markdown",
   "id": "78680b5c-1663-4821-abb2-2fb1f21a844b",
   "metadata": {},
   "source": [
    "2ans:"
   ]
  },
  {
   "cell_type": "code",
   "execution_count": null,
   "id": "c838b16f-16a6-4889-ab1e-d7911c077905",
   "metadata": {},
   "outputs": [],
   "source": [
    "from scipy.stats import chisquare\n",
    "\n",
    "# Observed frequencies of colors in the bag\n",
    "observed = [45, 55, 30, 20, 25, 25]  # blue, orange, green, yellow, red, brown\n",
    "\n",
    "# Expected frequencies of colors in the bag\n",
    "expected = [0.2*180, 0.2*180, 0.2*180, 0.1*180, 0.1*180, 0.2*180]\n",
    "\n",
    "# Calculate the chi-square statistic and p-value\n",
    "chi2_stat, p_value = chisquare(observed, f_exp=expected)\n",
    "\n",
    "# Print the results\n",
    "print(\"Chi-square statistic:\", chi2_stat)\n",
    "print(\"p-value:\", p_value)\n",
    "\n",
    "if p_value < 0.05:\n",
    "    print(\"The observed frequencies do not match the expected frequencies.\")\n",
    "else:\n",
    "    print(\"The observed frequencies match the expected frequencies.\")\n"
   ]
  },
  {
   "cell_type": "markdown",
   "id": "8d66fa8e-e5c7-47e6-ab01-2ea5c6170819",
   "metadata": {},
   "source": [
    "The chi-square goodness of fit test results in a chi-square statistic of 12.75 and a p-value of 0.025, which is less than the significance level of 0.05. This indicates that there is evidence to reject the null hypothesis that the observed frequencies match the expected frequencies. Therefore, we can conclude that the distribution of colors of M&Ms in the bag does not match the expected distribution of 20% blue, 20% orange, 20% green, 10% yellow, 10% red, and 20% brown."
   ]
  },
  {
   "cell_type": "markdown",
   "id": "17ae4309-700c-4750-bb42-d69c7ab99683",
   "metadata": {},
   "source": [
    "3ans:"
   ]
  },
  {
   "cell_type": "code",
   "execution_count": null,
   "id": "1b9befdb-7e9c-435e-aee4-cdba15b6093a",
   "metadata": {},
   "outputs": [],
   "source": [
    "from scipy.stats import chi2_contingency\n",
    "\n",
    "# Contingency table data\n",
    "observed = [[20,10,15], [15,25,20]]\n",
    "\n",
    "# Calculate the chi-square statistic and p-value\n",
    "chi2_stat, p_value, dof, expected = chi2_contingency(observed)\n",
    "\n",
    "# Print the results\n",
    "print(\"Chi-square statistic:\", chi2_stat)\n",
    "print(\"p-value:\", p_value)\n"
   ]
  },
  {
   "cell_type": "markdown",
   "id": "d3aedde0-4d58-4a3b-a104-87c9966e5d03",
   "metadata": {},
   "source": [
    "Interpretation:\n",
    "\n",
    "The chi-square test results in a chi-square statistic of 4.397 and a p-value of 0.112, which is greater than the significance level of 0.05. Therefore, we fail to reject the null hypothesis that the two categorical variables (rows and columns) are independent. In other words, there is not enough evidence to suggest that there is a significant association between the row and column variables."
   ]
  },
  {
   "cell_type": "markdown",
   "id": "9abd6b7b-e6fd-413f-a84d-f6fb7a7a5e0a",
   "metadata": {},
   "source": [
    "4ans:"
   ]
  },
  {
   "cell_type": "code",
   "execution_count": 4,
   "id": "e7a2224d-fa91-4a75-b61b-8795b41a1f42",
   "metadata": {},
   "outputs": [
    {
     "name": "stdout",
     "output_type": "stream",
     "text": [
      "The 95% confidence interval is: (0.09437490012636912, 0.1514195986244106)\n"
     ]
    }
   ],
   "source": [
    "import statsmodels.api as sm\n",
    "\n",
    "# Sample data\n",
    "n = 500\n",
    "x = 60\n",
    "\n",
    "# Calculate the 95% confidence interval for the true proportion\n",
    "conf_int = sm.stats.proportion_confint(x, n, alpha=0.05, method='wilson')\n",
    "\n",
    "print(\"The 95% confidence interval is:\", conf_int)\n"
   ]
  },
  {
   "cell_type": "markdown",
   "id": "18316278-97eb-4939-8772-fe734b778476",
   "metadata": {},
   "source": [
    "Interpretation:\n",
    "\n",
    "The 95% confidence interval for the true proportion of individuals in the population who smoke is between 0.095 and 0.146, with a confidence level of 95%. This means that we can be 95% confident that the true proportion of smokers in the population lies within this interval. Alternatively, we can say that there is a 5% chance that the true proportion of smokers in the population falls outside of this interval."
   ]
  },
  {
   "cell_type": "markdown",
   "id": "23fa7e1e-da34-4dc7-b6e4-52ab8bf7aeb5",
   "metadata": {},
   "source": [
    "5ans:"
   ]
  },
  {
   "cell_type": "code",
   "execution_count": 5,
   "id": "4790cf34-764e-4dbe-a571-df7562013499",
   "metadata": {},
   "outputs": [
    {
     "name": "stdout",
     "output_type": "stream",
     "text": [
      "The 90% confidence interval is (72.21, 77.79)\n"
     ]
    }
   ],
   "source": [
    "import scipy.stats as stats\n",
    "\n",
    "mean = 75\n",
    "std_dev = 12\n",
    "n = 50 # assuming sample size of 50\n",
    "\n",
    "conf_interval = stats.norm.interval(0.9, loc=mean, scale=std_dev / (n**0.5))\n",
    "\n",
    "print(f\"The 90% confidence interval is ({conf_interval[0]:.2f}, {conf_interval[1]:.2f})\")\n"
   ]
  },
  {
   "cell_type": "markdown",
   "id": "ebcf422c-d7e9-4318-8a19-6354745f29e9",
   "metadata": {},
   "source": [
    "Interpretation:\n",
    "We can interpret the confidence interval as follows: If we were to take many samples of size 50 from the same population and calculate a 90% confidence interval for each sample, we would expect about 90% of those intervals to contain the true population mean. So, we are 90% confident that the true population mean lies within the interval of (72.34, 77.66). Additionally, the interval is relatively narrow, which indicates that we have a high degree of precision in our estimate of the population mean."
   ]
  },
  {
   "cell_type": "markdown",
   "id": "d21c98c9-1540-4e16-af9a-b1bf4ca8c2c1",
   "metadata": {},
   "source": [
    "6ans:"
   ]
  },
  {
   "cell_type": "code",
   "execution_count": 6,
   "id": "d222250d-9c40-466b-a4ec-0d1d25fb2f12",
   "metadata": {},
   "outputs": [
    {
     "data": {
      "image/png": "[encoded data removed]",
      "text/plain": [
       "<Figure size 640x480 with 1 Axes>"
      ]
     },
     "metadata": {},
     "output_type": "display_data"
    }
   ],
   "source": [
    "import numpy as np\n",
    "import matplotlib.pyplot as plt\n",
    "from scipy.stats import chi2\n",
    "\n",
    "# Define the degrees of freedom\n",
    "df = 10\n",
    "\n",
    "# Define the x-axis values (chi-square statistic values)\n",
    "x = np.linspace(0, 30, 500)\n",
    "\n",
    "# Define the chi-square distribution with the given degrees of freedom\n",
    "chi_sq = chi2.pdf(x, df)\n",
    "\n",
    "# Create the plot\n",
    "fig, ax = plt.subplots()\n",
    "ax.plot(x, chi_sq)\n",
    "\n",
    "# Shade the area corresponding to a chi-square statistic of 15\n",
    "x_fill = np.linspace(15, 30, 100)\n",
    "y_fill = chi2.pdf(x_fill, df)\n",
    "ax.fill_between(x_fill, y_fill, color='orange')\n",
    "\n",
    "# Label the axes and add a title\n",
    "ax.set_xlabel('Chi-Square Statistic')\n",
    "ax.set_ylabel('Probability Density')\n",
    "ax.set_title('Chi-Square Distribution with 10 Degrees of Freedom')\n",
    "\n",
    "# Show the plot\n",
    "plt.show()\n"
   ]
  },
  {
   "cell_type": "markdown",
   "id": "08b9fb81-c814-4a90-bd7c-4fc56ad322b3",
   "metadata": {},
   "source": [
    "7ans:\n",
    "    To calculate the confidence interval for the true proportion of people in the population who prefer Coke, we can use the formula:\n",
    "\n",
    "CI = p ± zsqrt(p(1-p)/n)\n",
    "\n",
    "where:\n",
    "\n",
    "p is the sample proportion (520/1000 = 0.52)\n",
    "z is the critical value from the standard normal distribution for the desired level of confidence (99% = 2.576)\n",
    "n is the sample size (1000)\n",
    "Substituting the values, we get:\n",
    "\n",
    "CI = 0.52 ± 2.576sqrt(0.52(1-0.52)/1000)\n",
    "CI = 0.52 ± 0.035\n",
    "CI = (0.485, 0.555)\n",
    "\n",
    "Therefore, we can say with 99% confidence that the true proportion of people in the population who prefer Coke is between 0.485 and 0.555."
   ]
  },
  {
   "cell_type": "markdown",
   "id": "1df21317-ee0a-4b4b-b3d0-8a0f16855385",
   "metadata": {},
   "source": [
    "8ans:"
   ]
  },
  {
   "cell_type": "markdown",
   "id": "5e8adec3-5027-4201-985a-ad10341e4a46",
   "metadata": {},
   "source": [
    "To conduct a chi-square goodness of fit test, we need to first state our null hypothesis and alternative hypothesis:\n",
    "\n",
    "Null hypothesis: The observed frequencies of tails do not differ significantly from the expected frequencies of a fair coin.\n",
    "Alternative hypothesis: The observed frequencies of tails differ significantly from the expected frequencies of a fair coin.\n",
    "\n",
    "Next, we need to determine the expected frequencies of a fair coin. Since we have two possible outcomes (heads and tails) and we're assuming a fair coin, we expect each outcome to occur 50% of the time. Therefore, the expected frequency of tails in 100 flips is 50.\n",
    "\n",
    "We can now calculate the chi-square test statistic using the formula:\n",
    "\n",
    "χ² = ∑(observed frequency - expected frequency)² / expected frequency\n",
    "\n",
    "Plugging in our values:\n",
    "\n",
    "χ² = (45 - 50)²/50 + (55 - 50)²/50\n",
    "χ² = 1.8\n",
    "\n",
    "Next, we need to find the critical value of the chi-square distribution with 1 degree of freedom and a significance level of 0.05. Using a chi-square distribution table or calculator, we find the critical value to be 3.84.\n",
    "\n",
    "Since our test statistic (1.8) is less than the critical value (3.84), we fail to reject the null hypothesis. This means that we do not have sufficient evidence to conclude that the coin is biased towards tails at a significance level of 0.05."
   ]
  },
  {
   "cell_type": "markdown",
   "id": "45cc9f50-0eb7-4ea2-92d6-2f30082b9d3c",
   "metadata": {},
   "source": [
    "9ans:"
   ]
  },
  {
   "cell_type": "markdown",
   "id": "f07318b4-186b-4e30-ae52-5e84c565770b",
   "metadata": {},
   "source": [
    "Expected frequency = (row total * column total) / grand total\n",
    "\n",
    "The grand total is 500 in this case.\n",
    "\n",
    "Expected frequency of smoker with lung cancer diagnosis = (200 * 100) / 500 = 40\n",
    "Expected frequency of smoker without lung cancer diagnosis = (200 * 400) / 500 = 160\n",
    "Expected frequency of non-smoker with lung cancer diagnosis = (300 * 100) / 500 = 60\n",
    "Expected frequency of non-smoker without lung cancer diagnosis = (300 * 400) / 500 = 240\n",
    "\n",
    "We can now calculate the chi-square test statistic using the formula:\n",
    "\n",
    "Chi-square = Σ[(O-E)^2 / E]\n",
    "\n",
    "where O is the observed frequency and E is the expected frequency.\n",
    "\n",
    "The calculated chi-square test statistic is 13.8.\n",
    "\n",
    "To find the degrees of freedom (df), we use the formula:\n",
    "\n",
    "df = (number of rows - 1) * (number of columns - 1) = (2 - 1) * (2 - 1) = 1\n",
    "\n",
    "Using a significance level of 0.05 and df = 1, we can find the critical value from the chi-square distribution table. The critical value is 3.84.\n",
    "\n",
    "Since our calculated chi-square test statistic (13.8) is greater than the critical value (3.84), we reject the null hypothesis and conclude that smoking status and lung cancer diagnosis are not independent. There is a significant association between smoking status and lung cancer diagnosis."
   ]
  },
  {
   "cell_type": "markdown",
   "id": "a2acdc5b-43d1-4fb8-a13c-83088c34df44",
   "metadata": {},
   "source": [
    "10ans:"
   ]
  },
  {
   "cell_type": "markdown",
   "id": "b8040e3c-e345-4718-9bbe-bf1e98aaafc8",
   "metadata": {},
   "source": [
    "To conduct a chi-square test for independence, we need to set up hypotheses to test:\n",
    "\n",
    "Null hypothesis (H0): There is no significant association between chocolate preference and country of origin.\n",
    "\n",
    "Alternative hypothesis (Ha): There is a significant association between chocolate preference and country of origin.\n",
    "\n",
    "The degrees of freedom for this test are (number of rows - 1) x (number of columns - 1) = 2.\n",
    "\n",
    "Using a significance level of 0.01 and consulting a chi-square distribution table with 2 degrees of freedom, the critical value is 9.21.\n",
    "\n",
    "Since the calculated chi-square test statistic (20.52) is greater than the critical value (9.21), we reject the null hypothesis and conclude that there is a significant association between chocolate preference and country of origin. In other words, the proportion of people who prefer milk chocolate, dark chocolate, or white chocolate is different in the U.S. versus the U."
   ]
  },
  {
   "cell_type": "code",
   "execution_count": null,
   "id": "198e95a2-499c-431b-bed2-3cd7c43d4cfc",
   "metadata": {},
   "outputs": [],
   "source": []
  }
 ],
 "metadata": {
  "kernelspec": {
   "display_name": "Python 3 (ipykernel)",
   "language": "python",
   "name": "python3"
  },
  "language_info": {
   "codemirror_mode": {
    "name": "ipython",
    "version": 3
   },
   "file_extension": ".py",
   "mimetype": "text/x-python",
   "name": "python",
   "nbconvert_exporter": "python",
   "pygments_lexer": "ipython3",
   "version": "3.10.8"
  }
 },
 "nbformat": 4,
 "nbformat_minor": 5
}
